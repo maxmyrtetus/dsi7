{
 "cells": [
  {
   "cell_type": "code",
   "execution_count": 2,
   "metadata": {
    "tags": []
   },
   "outputs": [],
   "source": [
    "import numpy as np\n",
    "import matplotlib.pyplot as plt\n",
    "from matplotlib.pyplot import cm\n",
    "from matplotlib import patches\n",
    "import seaborn as sns\n",
    "sns.set_theme()\n",
    "import pandas as pd\n",
    "import mne\n",
    "from scipy.fftpack import fft\n",
    "from numpy.fft import rfft, irfft, rfftfreq\n",
    "from sklearn.cross_decomposition import CCA\n",
    "from sklearn.decomposition import PCA\n",
    "# import tensorflow as tf\n",
    "from sklearn.model_selection import KFold, StratifiedKFold\n",
    "from sklearn.metrics import confusion_matrix, accuracy_score\n",
    "# from meegkit import dss, ress\n",
    "# from meegkit import sns as msns\n",
    "# from meegkit.utils import unfold, rms, fold, tscov, matmul3d, snr_spectrum\n",
    "from brainda.paradigms import SSVEP\n",
    "from brainda.algorithms.utils.model_selection import (\n",
    "    set_random_seeds, \n",
    "    generate_loo_indices, match_loo_indices)\n",
    "from brainda.algorithms.decomposition import (\n",
    "    FBTRCA, FBTDCA, FBSCCA, FBECCA, FBDSP,\n",
    "    generate_filterbank, generate_cca_references)\n",
    "from collections import OrderedDict\n",
    "import numpy as np\n",
    "from scipy.signal import sosfiltfilt\n",
    "from sklearn.pipeline import clone\n",
    "from sklearn.metrics import balanced_accuracy_score"
   ]
  },
  {
   "cell_type": "code",
   "execution_count": 3,
   "metadata": {
    "tags": []
   },
   "outputs": [],
   "source": [
    "def load_data_temp_function(eeg, meta, classes, stim_duration=5, filter=True):\n",
    "    # removes the first row and the last column of the meta.csv data\n",
    "    trials = meta[1:,:2]\n",
    "    times = []\n",
    "    \n",
    "    duration_samples = int(stim_duration*300)\n",
    "    # this for-loop iterates through every row of the EEG data where TRG equals 16 and appends the time data at that row\n",
    "    for index, row in eeg.loc[eeg[' TRG']==1.0].iterrows():\n",
    "        if index > 0 and eeg.iloc[index-1][' TRG'] == 0 and (not eeg.iloc[index:index+duration_samples][' TRG'].isin([18.0]).any()):\n",
    "            times.append(row['time'])\n",
    "    times = np.array(times)\n",
    "    \n",
    "\n",
    "    # drop the columns time, TRG, X1, X2, X3, and A2.\n",
    "    # Append the resulting table of length (stim_duration * 300) to the resulting eeg numpy array\n",
    "    # for each place where TRG equals 16 after transposing\n",
    "    eeg = np.array([eeg.loc[eeg['time']>t].drop(columns=['time',' TRG']).to_numpy()[:duration_samples].T for t in times])\n",
    "    \n",
    "    # if filter is set equal to true, the MNE filter, whose documentation can be found online at\n",
    "    # https://mne.tools/stable/generated/mne.filter.filter_data.html\n",
    "    # Performs a lower pass-band FIR filter on the EEG data\n",
    "    if filter:\n",
    "        eeg = mne.filter.filter_data(eeg, sfreq=300, l_freq=5, h_freq=49, verbose=0, method='fir')\n",
    "    \n",
    "    # classes is a numpy array of every unique row in meta.csv\n",
    "    # so eeg_temp is a 2d list with a row for every row in classes\n",
    "    eeg_temp = []\n",
    "    for i in range(len(classes)):\n",
    "        eeg_temp.append([])\n",
    "\n",
    "    # populates the eeg_temp table with the elements of eeg grouped into rows by the corresponding 'class'\n",
    "    for i,freq in enumerate(trials):\n",
    "        for j,target in enumerate(classes):\n",
    "            if (freq==target).all():\n",
    "                eeg_temp[j].append(eeg[i])\n",
    "    # switches the first and second dimensions of the eeg_temp array\n",
    "    eeg = np.array(eeg_temp).transpose(1,0,2,3)\n",
    "    return eeg"
   ]
  },
  {
   "cell_type": "code",
   "execution_count": 4,
   "metadata": {
    "tags": []
   },
   "outputs": [
    {
     "name": "stdout",
     "output_type": "stream",
     "text": [
      "0\n"
     ]
    },
    {
     "data": {
      "text/plain": [
       "((2, 32, 7, 450), (2, 32, 2))"
      ]
     },
     "execution_count": 4,
     "metadata": {},
     "output_type": "execute_result"
    }
   ],
   "source": [
    "# list of sub-directories within the Aidan's DSI-24 data for each run\n",
    "sub_dirs = ['run1/']\n",
    "duration = 1.5\n",
    "n_trials = 2\n",
    "n_classes = 4\n",
    "n_channels = 7\n",
    "\n",
    "# load experimental dataset\n",
    "# eeg_whole is a 4-dimensional numpy array where the first dimension is the number of trials times the number of runs\n",
    "# each entry in the second class represents a different unique class (unique rows in the meta.csv data)\n",
    "# third dimension represents the specific channel, which there are 19 of in this case because of the DSI-24\n",
    "eeg_whole = np.zeros((n_trials*len(sub_dirs),n_classes,n_channels,int(duration*300)))\n",
    "\n",
    "# target_tab stores the classes and their corresponding index in a dictionary\n",
    "target_tab = {}\n",
    "# i_class = 0\n",
    "for i_dir,sub_dir in enumerate(sub_dirs):\n",
    "    print(i_dir)\n",
    "    # read the eeg and meta data from their csv files\n",
    "    data_path = \"../data/eeg_recordings/32-class_speller/DSI-7/Simon/\" + sub_dir\n",
    "    eeg = pd.read_csv(data_path + 'eeg.csv').astype(float)\n",
    "    meta = np.loadtxt(data_path + 'meta.csv', delimiter=',', dtype=float)\n",
    "    trials = meta[1:,:2]\n",
    "    classes = np.unique(trials, axis=0)\n",
    "    more_targets = {tuple(target):index for index,target in enumerate(classes)}\n",
    "    # add current directory's classes with indexes to target_tab dictionary\n",
    "    target_tab.update(more_targets)\n",
    "    # call the load data function from block 2\n",
    "    eeg = load_data_temp_function(eeg, meta, classes, stim_duration=duration,filter=False)\n",
    "    # insert this run's eeg data into the eeg_whole numpy array\n",
    "    eeg_whole[i_dir*n_trials:(i_dir+1)*n_trials,:,:,:] = eeg\n",
    "    # i_class+=3\n",
    "eeg = eeg_whole\n",
    "# target by trial stores the classes, but repeated for each trial\n",
    "target_by_trial = [list(target_tab.keys())] * n_trials*len(sub_dirs)\n",
    "eeg.shape, np.array(target_by_trial).shape"
   ]
  },
  {
   "cell_type": "code",
   "execution_count": null,
   "metadata": {},
   "outputs": [],
   "source": [
    "n_trials = eeg.shape[0]\n",
    "# classes = [0,7,15,23,31]\n",
    "classes = range(4)\n",
    "n_classes = len(classes)\n",
    "y = np.array([list(target_tab.values())] * n_trials).T.reshape(-1)\n",
    "eeg_temp = eeg[:n_trials,classes,:,42:]\n",
    "# X = eeg.swapaxes(0,1).reshape(-1,*eeg.shape[2:])\n",
    "X = eeg_temp.swapaxes(0,1).reshape(-1,*eeg_temp.shape[2:])\n",
    "\n",
    "\n",
    "freq_targets = np.array(target_by_trial)[0,:]\n",
    "phase_targets = np.zeros_like(freq_targets)\n",
    "n_harmonics = 5\n",
    "n_bands = 3\n",
    "srate = 300\n",
    "duration = 1\n",
    "Yf = generate_cca_references(\n",
    "    freq_targets, srate, duration,\n",
    "    phases=phase_targets,\n",
    "    n_harmonics=n_harmonics)\n",
    "wp = [[8*i, 90] for i in range(1, n_bands+1)]\n",
    "ws = [[8*i-2, 95] for i in range(1, n_bands+1)]\n",
    "filterbank = generate_filterbank(\n",
    "    wp, ws, srate, order=4, rp=1)\n",
    "filterweights = np.arange(1, len(filterbank)+1)**(-1.25) + 0.25\n",
    "set_random_seeds(64)\n",
    "l_val = 5\n",
    "fbtdca_model = FBTDCA(filterbank, l_val, n_components=8, filterweights=filterweights)\n",
    "events = []\n",
    "# for j_class in range(32):\n",
    "for j_class in classes:\n",
    "    events.extend([str(target_by_trial[i_trial][j_class]) for i_trial in range(n_trials)])\n",
    "events = np.array(events)\n",
    "subjects = ['1'] * (n_classes*n_trials)\n",
    "meta = pd.DataFrame(data=np.array([subjects,events]).T, columns=[\"subject\", \"event\"])\n",
    "set_random_seeds(42)\n",
    "\n",
    "filterX, filterY = np.copy(X[..., :int(srate*duration) + l_val]), np.copy(y)\n",
    "filterX = filterX - np.mean(filterX, axis=-1, keepdims=True)\n",
    "trainX, trainY = filterX, filterY\n",
    "\n",
    "model = fbtdca_model.fit(\n",
    "    trainX, trainY,\n",
    "    Yf=Yf\n",
    ")"
   ]
  },
  {
   "cell_type": "code",
   "execution_count": null,
   "metadata": {},
   "outputs": [],
   "source": [
    "pred_labels = model.predict(trainX)\n",
    "score = balanced_accuracy_score(trainY, pred_labels)\n",
    "print(\"Training Accuracy: \" + str(score))"
   ]
  },
  {
   "cell_type": "code",
   "execution_count": null,
   "metadata": {},
   "outputs": [],
   "source": [
    "import pickle\n",
    "with open(\"../reports/trained_models/32-class_speller/DSI-24/Aidan/fbtdca_1s.pkl\", 'wb') as filehandler:\n",
    "    pickle.dump(model, filehandler)"
   ]
  },
  {
   "cell_type": "code",
   "execution_count": null,
   "metadata": {},
   "outputs": [],
   "source": [
    "filterX.shape, X.shape, eeg_temp.shape"
   ]
  },
  {
   "cell_type": "code",
   "execution_count": null,
   "metadata": {},
   "outputs": [],
   "source": []
  }
 ],
 "metadata": {
  "kernelspec": {
   "display_name": "Python 3 (ipykernel)",
   "language": "python",
   "name": "python3"
  },
  "language_info": {
   "codemirror_mode": {
    "name": "ipython",
    "version": 3
   },
   "file_extension": ".py",
   "mimetype": "text/x-python",
   "name": "python",
   "nbconvert_exporter": "python",
   "pygments_lexer": "ipython3",
   "version": "3.8.18"
  },
  "vscode": {
   "interpreter": {
    "hash": "4f95cac2866d48a154725f15da66ad3889a01053732bcd1fedad154961939282"
   }
  }
 },
 "nbformat": 4,
 "nbformat_minor": 4
}
